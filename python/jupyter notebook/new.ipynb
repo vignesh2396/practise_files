{
 "metadata": {
  "language_info": {
   "codemirror_mode": {
    "name": "ipython",
    "version": 3
   },
   "file_extension": ".py",
   "mimetype": "text/x-python",
   "name": "python",
   "nbconvert_exporter": "python",
   "pygments_lexer": "ipython3",
   "version": "3.8.3-final"
  },
  "orig_nbformat": 2,
  "kernelspec": {
   "name": "python3",
   "display_name": "Python 3",
   "language": "python"
  }
 },
 "nbformat": 4,
 "nbformat_minor": 2,
 "cells": [
  {
   "cell_type": "code",
   "execution_count": null,
   "metadata": {},
   "outputs": [],
   "source": [
    "# Object oriented programming in python.\n",
    "# Example 1: Simple class creation\n",
    "\n",
    "class Student:\n",
    "\n",
    "    # __init__ function will be called by default when we create a object for our class\n",
    "    # it works like constructor in other programming language\n",
    "    def __init__(self,name,marks):\n",
    "        self.name = name\n",
    "        self.marks = marks\n",
    "\n",
    "    def pass_fail(self):\n",
    "        if self.marks >= 40:\n",
    "            return True\n",
    "        else:\n",
    "            return False\n",
    "\n",
    "s = Student(\"Vignesh\",75)   \n",
    "result = s.pass_fail()\n",
    "print(result)"
   ]
  },
  {
   "cell_type": "code",
   "execution_count": null,
   "metadata": {},
   "outputs": [],
   "source": [
    "# Example 2: How to add two complex number\n",
    "\n",
    "class Complex:\n",
    "    def __init__(self,real,img):\n",
    "        self.real = real\n",
    "        self.img = img\n",
    "\n",
    "    def sum(self,number):\n",
    "        real = self.real + number.real\n",
    "        img = self.img + number.img\n",
    "        result = Complex(real,img)\n",
    "        return result\n",
    "\n",
    "c1 = Complex(5,10)\n",
    "c2 = Complex(3,7)\n",
    "result = c1.sum(c2)\n",
    "print(\"real = \", result.real)\n",
    "print(\"imaginary = \", result.img)"
   ]
  },
  {
   "cell_type": "code",
   "execution_count": null,
   "metadata": {},
   "outputs": [],
   "source": [
    "# Example 3: To print the perimeter of a triangle\n",
    "\n",
    "class Triangle:\n",
    "    def __init__(self,a,b,c):\n",
    "        self.a = a\n",
    "        self.b = b\n",
    "        self.c = c\n",
    "    def perimeter(self):\n",
    "        result = self.a + self.b + self.c\n",
    "        return result\n",
    "t = Triangle(5,4,2)\n",
    "result = t.perimeter()\n",
    "print(\"Perimeter of the triangle is : \", result)"
   ]
  },
  {
   "cell_type": "code",
   "execution_count": null,
   "metadata": {},
   "outputs": [],
   "source": [
    "# inheritance example\n",
    "class Animal:\n",
    "    def eat(self):\n",
    "        print(\"I can eat\")\n",
    "\n",
    "class Dog(Animal):\n",
    "    def bark(self):\n",
    "        print(\"I can bark\")\n",
    "\n",
    "dog = Dog()\n",
    "dog.bark()\n",
    "dog.eat()"
   ]
  },
  {
   "cell_type": "code",
   "execution_count": null,
   "metadata": {},
   "outputs": [],
   "source": [
    "# 12 Mar 2021\n",
    "# sorting dictionary in ascending and descending order\n",
    "my_dict = {2: 10, 1: 2, -3: 1234}\n",
    "sorted_dict = dict(sorted(my_dict.items(), key=lambda item: item[1], reverse = True))\n",
    "print(sorted_dict)"
   ]
  },
  {
   "cell_type": "code",
   "execution_count": null,
   "metadata": {},
   "outputs": [],
   "source": [
    "# 12 Mar 2021\n",
    "# open both files \n",
    "with open('first.txt','r') as firstfile, open('second.txt','a') as secondfile: \n",
    "\t\n",
    "\t# read content from first file \n",
    "\tfor line in firstfile: \n",
    "\t\t\t\n",
    "\t\t\t# append content to second file \n",
    "\t\t\tsecondfile.write(line)\n"
   ]
  }
 ]
}