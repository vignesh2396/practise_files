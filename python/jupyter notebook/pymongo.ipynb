{
 "metadata": {
  "language_info": {
   "codemirror_mode": {
    "name": "ipython",
    "version": 3
   },
   "file_extension": ".py",
   "mimetype": "text/x-python",
   "name": "python",
   "nbconvert_exporter": "python",
   "pygments_lexer": "ipython3",
   "version": "3.8.3-final"
  },
  "orig_nbformat": 2,
  "kernelspec": {
   "name": "python3",
   "display_name": "Python 3"
  }
 },
 "nbformat": 4,
 "nbformat_minor": 2,
 "cells": [
  {
   "cell_type": "code",
   "execution_count": 14,
   "metadata": {},
   "outputs": [
    {
     "output_type": "stream",
     "name": "stdout",
     "text": [
      "{'_id': ObjectId('5fb88cbd0c7cf777cbe41dda'),\n 'age': 24.0,\n 'name': 'vignesh',\n 'status': 'approved'}\n"
     ]
    }
   ],
   "source": [
    "#from pymongo import MongoClient\n",
    "from pymongo import *;\n",
    "from bson import *;\n",
    "import pprint\n",
    "\n",
    "mc = MongoClient()\n",
    "t = mc.test  # database name\n",
    "c = t.users  # collection name\n",
    "pprint.pprint(c.find_one())"
   ]
  },
  {
   "cell_type": "code",
   "execution_count": 15,
   "metadata": {},
   "outputs": [
    {
     "output_type": "execute_result",
     "data": {
      "text/plain": [
       "\"c.insert_one({'_id': 1000, 'name': {'first': 'muthu', 'last': 'velan'}})\\nc.insert_one({'_id': 1001, 'name': {'first': 'muthu', 'last': 'kumar'}})\\nc.insert_one({'_id': 1002, 'name': {'first': 'venkata', 'last': 'raman'}}) \""
      ]
     },
     "metadata": {},
     "execution_count": 15
    }
   ],
   "source": [
    "# CRUD Operation\n",
    "#Create\n",
    "'''c.insert_one({'_id': 1000, 'name': {'first': 'muthu', 'last': 'velan'}})\n",
    "c.insert_one({'_id': 1001, 'name': {'first': 'muthu', 'last': 'kumar'}})\n",
    "c.insert_one({'_id': 1002, 'name': {'first': 'venkata', 'last': 'raman'}}) '''"
   ]
  },
  {
   "cell_type": "code",
   "execution_count": 16,
   "metadata": {},
   "outputs": [
    {
     "output_type": "stream",
     "name": "stdout",
     "text": [
      "<pymongo.cursor.Cursor object at 0x7ff8d3134e20>\n"
     ]
    }
   ],
   "source": [
    "#Read\n",
    "pprint.pprint(c.find())"
   ]
  },
  {
   "cell_type": "code",
   "execution_count": 17,
   "metadata": {},
   "outputs": [
    {
     "output_type": "execute_result",
     "data": {
      "text/plain": [
       "\"c.replace_one({'_id':1000},{'name':{'first':'muthu','last':'velan'}})\""
      ]
     },
     "metadata": {},
     "execution_count": 17
    }
   ],
   "source": [
    "#Update\n",
    "'''c.replace_one({'_id':1000},{'name':{'first':'muthu','last':'velan'}})'''"
   ]
  },
  {
   "cell_type": "code",
   "execution_count": 18,
   "metadata": {},
   "outputs": [
    {
     "output_type": "execute_result",
     "data": {
      "text/plain": [
       "\"c.delete_one({'_id':1000})\""
      ]
     },
     "metadata": {},
     "execution_count": 18
    }
   ],
   "source": [
    "#Delete\n",
    "'''c.delete_one({'_id':1000})'''"
   ]
  },
  {
   "cell_type": "code",
   "execution_count": 19,
   "metadata": {},
   "outputs": [
    {
     "output_type": "stream",
     "name": "stdout",
     "text": [
      "{'_id': ObjectId('5fb88cbd0c7cf777cbe41dda'),\n 'age': 24.0,\n 'name': 'vignesh',\n 'status': 'approved'}\n{'_id': 1000, 'name': {'first': 'muthu', 'last': 'velan'}}\n{'_id': 1001, 'name': {'first': 'muthu', 'last': 'kumar'}}\n{'_id': 1002, 'name': {'first': 'venkata', 'last': 'raman'}}\n"
     ]
    }
   ],
   "source": [
    "# to print all the data in db using loop\n",
    "for foundDoc in c.find():\n",
    "    pprint.pprint(foundDoc)"
   ]
  },
  {
   "cell_type": "code",
   "execution_count": 20,
   "metadata": {},
   "outputs": [
    {
     "output_type": "stream",
     "name": "stdout",
     "text": [
      "{'_id': ObjectId('5fb88cbd0c7cf777cbe41dda'),\n 'age': 24.0,\n 'name': 'vignesh',\n 'status': 'approved'}\n"
     ]
    }
   ],
   "source": [
    "pprint.pprint(c.find_one({'_id': ObjectId('5fb88cbd0c7cf777cbe41dda')}))"
   ]
  },
  {
   "cell_type": "code",
   "execution_count": 25,
   "metadata": {},
   "outputs": [
    {
     "output_type": "stream",
     "name": "stdout",
     "text": [
      "{'_id': ObjectId('5fb88cbd0c7cf777cbe41dda'),\n 'age': 24.0,\n 'name': 'vignesh',\n 'status': 'approved'}\n{'_id': 1000, 'name': {'first': 'muthu', 'last': 'velan'}}\n{'_id': 1001, 'name': {'first': 'muthu', 'last': 'kumar'}}\n{'_id': 1002, 'name': {'first': 'venkata', 'last': 'raman'}}\n"
     ]
    }
   ],
   "source": [
    "#creating index\n",
    "c.create_index([('name.first',ASCENDING),\n",
    "('name.last',DESCENDING)],\n",
    "name = \"myIndex\")\n",
    "for doc in c.find().hint('myIndex'):\n",
    "    pprint.pprint(doc)\n"
   ]
  },
  {
   "cell_type": "code",
   "execution_count": null,
   "metadata": {},
   "outputs": [],
   "source": [
    "#drop index\n",
    "'''c.drop_index('myIndex')''' "
   ]
  }
 ]
}