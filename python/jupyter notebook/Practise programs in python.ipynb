{
 "cells": [
  {
   "cell_type": "code",
   "execution_count": 1,
   "metadata": {
    "scrolled": true
   },
   "outputs": [],
   "source": [
    "# import pymysql\n",
    "\n",
    "# try:\n",
    "#     connection = pymysql.connect(host=\"localhost\",user=\"root\",password=\"vignesh\")\n",
    "#     cursor = connection.cursor()\n",
    "#     print(\"connected\")\n",
    "# except Exception as e:\n",
    "#     print(e)\n",
    "# finally:\n",
    "#     connection.close()"
   ]
  },
  {
   "cell_type": "code",
   "execution_count": 1,
   "metadata": {},
   "outputs": [
    {
     "ename": "ModuleNotFoundError",
     "evalue": "No module named 'tkinter'",
     "output_type": "error",
     "traceback": [
      "\u001b[0;31m---------------------------------------------------------------------------\u001b[0m",
      "\u001b[0;31mModuleNotFoundError\u001b[0m                       Traceback (most recent call last)",
      "\u001b[0;32m<ipython-input-1-4b5e62704616>\u001b[0m in \u001b[0;36m<module>\u001b[0;34m\u001b[0m\n\u001b[1;32m      1\u001b[0m \u001b[0;31m# to create a clock\u001b[0m\u001b[0;34m\u001b[0m\u001b[0;34m\u001b[0m\u001b[0;34m\u001b[0m\u001b[0m\n\u001b[1;32m      2\u001b[0m \u001b[0;34m\u001b[0m\u001b[0m\n\u001b[0;32m----> 3\u001b[0;31m \u001b[0;32mfrom\u001b[0m \u001b[0mtkinter\u001b[0m \u001b[0;32mimport\u001b[0m \u001b[0;34m*\u001b[0m\u001b[0;34m\u001b[0m\u001b[0;34m\u001b[0m\u001b[0m\n\u001b[0m\u001b[1;32m      4\u001b[0m \u001b[0;32mfrom\u001b[0m \u001b[0mtkinter\u001b[0m\u001b[0;34m.\u001b[0m\u001b[0mttk\u001b[0m \u001b[0;32mimport\u001b[0m \u001b[0;34m*\u001b[0m\u001b[0;34m\u001b[0m\u001b[0;34m\u001b[0m\u001b[0m\n\u001b[1;32m      5\u001b[0m \u001b[0;32mfrom\u001b[0m \u001b[0mtime\u001b[0m \u001b[0;32mimport\u001b[0m \u001b[0mstrftime\u001b[0m\u001b[0;34m\u001b[0m\u001b[0;34m\u001b[0m\u001b[0m\n",
      "\u001b[0;31mModuleNotFoundError\u001b[0m: No module named 'tkinter'"
     ]
    }
   ],
   "source": [
    "# to create a clock\n",
    "\n",
    "'''from tkinter import *\n",
    "from tkinter.ttk import *\n",
    "from time import strftime\n",
    "\n",
    "root = Tk()\n",
    "root.title(\"Digital Clock\")\n",
    "\n",
    "def time():\n",
    "    string = strftime('%H:%M:%S %p') # specifying the format of the time\n",
    "    label.config(text=string)\n",
    "    label.after(1000, time) # to refresh for every 1 second\n",
    "    \n",
    "label = Label(root, font=(\"ds-digital\",80), background = \"black\", foreground = \"cyan\")\n",
    "label.pack(anchor='center')\n",
    "time()\n",
    "\n",
    "mainloop() '''"
   ]
  },
  {
   "cell_type": "code",
   "execution_count": null,
   "metadata": {},
   "outputs": [],
   "source": [
    "# QR Code Generator & Reader using Python | Python Project\n",
    "\n",
    "''' package needed for this to run is \n",
    "pip install qrcode '''\n",
    "\n",
    "''' The version parameter is an integer from 1 to 40 that controls the size of the QR Code (the smallest, version 1, is a 21x21 matrix). Set to None and use the fit parameter when making the code to determine this automatically.\n",
    "\n",
    "fill_color and back_color can change the background and the painting color of the QR, when using the default image factory.\n",
    "\n",
    "The error_correction parameter controls the error correction used for the QR Code. The following four constants are made available on the qrcode package:\n",
    "\n",
    "ERROR_CORRECT_L\n",
    "About 7% or less errors can be corrected.\n",
    "ERROR_CORRECT_M (default)\n",
    "About 15% or less errors can be corrected.\n",
    "ERROR_CORRECT_Q\n",
    "About 25% or less errors can be corrected.\n",
    "ERROR_CORRECT_H.\n",
    "About 30% or less errors can be corrected.\n",
    "The box_size parameter controls how many pixels each “box” of the QR code is.\n",
    "\n",
    "The border parameter controls how many boxes thick the border should be (the default is 4, which is the minimum according to the specs).'''\n",
    "\n",
    "'''import qrcode\n",
    "qr = qrcode.QRCode(\n",
    "    version=1,\n",
    "error_correction=qrcode.constants.ERROR_CORRECT_L,\n",
    "    box_size=10,\n",
    "    border=2)\n",
    "\n",
    "data = \"hello I am Vignesh and I am a Python developer\"\n",
    "qr.add_data(data)\n",
    "qr.make(fit=True)\n",
    "img = qr.make_image(fill=\"blue\", back_color=\"white\")\n",
    "img.save(\"myqr.png\")\n",
    "'''\n",
    "\n",
    "''' Need to find : 1. how to change the color of the qr code\n",
    "2. how to decode the qrcode in python'''"
   ]
  },
  {
   "cell_type": "code",
   "execution_count": 3,
   "metadata": {},
   "outputs": [
    {
     "name": "stdout",
     "output_type": "stream",
     "text": [
      "    1 \n",
      "   121 \n",
      "  12321 \n",
      " 1234321 \n",
      "123454321 \n"
     ]
    }
   ],
   "source": [
    "# number pyramid\n",
    "\n",
    "def numpyramid(n):\n",
    "    \n",
    "    for i in range(1, n+1):\n",
    "        print(\" \" * (n-i), end=\"\") # for empty space before pyramid \n",
    "        \n",
    "        for j in range(1, i+1):\n",
    "            print(\"%d\" %j, end=\"\") # to print the number in order\n",
    "            \n",
    "        for j in range(i-1,0,-1):  # to print the number in reverse order \n",
    "            print(\"%d\" %j, end= \"\")\n",
    "        print(\" \") # for new line\n",
    "\n",
    "numpyramid(5)"
   ]
  },
  {
   "cell_type": "code",
   "execution_count": 13,
   "metadata": {},
   "outputs": [
    {
     "name": "stdout",
     "output_type": "stream",
     "text": [
      "0 0 6 7 12 14 18 21 24 28 30 35 36 42 42 "
     ]
    }
   ],
   "source": [
    "# number series\n",
    "\n",
    "def numseries(n):\n",
    "    \n",
    "    s1 = 0 \n",
    "    s2 = 0 \n",
    "    \n",
    "    for i in range(1,n+1):\n",
    "        if i % 2 == 1:\n",
    "            res = s1\n",
    "            s1 += 6\n",
    "            \n",
    "        else:\n",
    "            res = s2\n",
    "            s2 += 7\n",
    "            \n",
    "        print(res, end=\" \")\n",
    "        \n",
    "numseries(15)"
   ]
  },
  {
   "cell_type": "code",
   "execution_count": 13,
   "metadata": {},
   "outputs": [
    {
     "name": "stdout",
     "output_type": "stream",
     "text": [
      "enter number of elements you want to insert : 2\n",
      "enter element : 1\n",
      "enter element : 100\n",
      "actual list =>  [1, 4, 10, 20, 45, 99, 100]\n",
      "Second largest element is: 99\n",
      "Second smallest element is: 4\n"
     ]
    }
   ],
   "source": [
    "# Python program to find largest and smallest number in a list\n",
    "\n",
    "# list of numbers\n",
    "list1 = [10, 20, 99, 4, 4, 45, 99]\n",
    "\n",
    "# print(list1)\n",
    "\n",
    "num  = int(input(\"enter number of elements you want to insert : \"))\n",
    "\n",
    "# appending the values to the list\n",
    "for i in range(0, num):\n",
    "    ele = int(input(\"enter element : \"))\n",
    "    list1.append(ele)\n",
    "\n",
    "# converting list into set to remove duplicates\n",
    "# again converted into list to perform sorting.\n",
    "new_list = list(set(list1))\n",
    "\n",
    "# sorting the list\n",
    "new_list.sort()\n",
    "\n",
    "print(\"actual list => \",new_list)\n",
    "\n",
    "# printing the second last element\n",
    "print(\"Second largest element is:\", new_list[-2])\n",
    "\n",
    "# printing the second first element\n",
    "print(\"Second smallest element is:\", new_list[1])\n"
   ]
  },
  {
   "cell_type": "code",
   "execution_count": null,
   "metadata": {},
   "outputs": [],
   "source": []
  }
 ],
 "metadata": {
  "kernelspec": {
   "display_name": "Python 3",
   "language": "python",
   "name": "python3"
  },
  "language_info": {
   "codemirror_mode": {
    "name": "ipython",
    "version": 3
   },
   "file_extension": ".py",
   "mimetype": "text/x-python",
   "name": "python",
   "nbconvert_exporter": "python",
   "pygments_lexer": "ipython3",
   "version": "3.8.5"
  }
 },
 "nbformat": 4,
 "nbformat_minor": 4
}
