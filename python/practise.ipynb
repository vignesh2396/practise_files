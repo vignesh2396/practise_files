{
 "metadata": {
  "language_info": {
   "codemirror_mode": {
    "name": "ipython",
    "version": 3
   },
   "file_extension": ".py",
   "mimetype": "text/x-python",
   "name": "python",
   "nbconvert_exporter": "python",
   "pygments_lexer": "ipython3",
   "version": "3.8.5"
  },
  "orig_nbformat": 2,
  "kernelspec": {
   "name": "python385jvsc74a57bd03fece611feb8d9eaff026f686073932118ebff0c9a09b923bf5271526b858f8e",
   "display_name": "Python 3.8.5 64-bit ('base': conda)"
  }
 },
 "nbformat": 4,
 "nbformat_minor": 2,
 "cells": [
  {
   "cell_type": "code",
   "execution_count": 7,
   "metadata": {},
   "outputs": [
    {
     "output_type": "stream",
     "name": "stdout",
     "text": [
      "Fruit    | Quantity\nApple    | 2.333333\nOranges  |       12\n\n\nFruit    | Quantity\nApple    | 2.33    \nOranges  | 12.00   \n\n\nFruit    | Quantity\nApple    |     2.33\nOranges  |    12.00\n\n\nFruit    | Quantity\nApple    |   2.33  \nOranges  |  12.00  \n"
     ]
    }
   ],
   "source": [
    "# Formatting Strings\n",
    "\n",
    "print('{0:8} | {1:8}'.format('Fruit', 'Quantity'))\n",
    "print('{0:8} | {1:8}'.format('Apple', 2.333333))\n",
    "print('{0:8} | {1:8}'.format('Oranges', 12))\n",
    "print(\"\\n\")\n",
    "print('{0:8} | {1:<8}'.format('Fruit', 'Quantity'))\n",
    "print('{0:8} | {1:<8.2f}'.format('Apple', 2.333333))\n",
    "print('{0:8} | {1:<8.2f}'.format('Oranges', 12))\n",
    "print(\"\\n\")\n",
    "print('{0:8} | {1:8}'.format('Fruit', 'Quantity'))\n",
    "print('{0:8} | {1:>8.2f}'.format('Apple', 2.333333))\n",
    "print('{0:8} | {1:>8.2f}'.format('Oranges', 12))\n",
    "print(\"\\n\")\n",
    "print('{0:8} | {1:8}'.format('Fruit', 'Quantity'))\n",
    "print('{0:8} | {1:^8.2f}'.format('Apple', 2.333333))\n",
    "print('{0:8} | {1:^8.2f}'.format('Oranges', 12))"
   ]
  },
  {
   "cell_type": "code",
   "execution_count": 14,
   "metadata": {},
   "outputs": [
    {
     "output_type": "stream",
     "name": "stdout",
     "text": [
      "          ________________\n        < vignesh the best >\n          ----------------\n        /\n /\\_/\\ /\n( o.o )\n > ^ <\n"
     ]
    }
   ],
   "source": [
    "user_input = input(\"Enter the message\")\n",
    "\n",
    "print(\"          \" + '_' * len(user_input))\n",
    "print(f\"        < {user_input} >\")\n",
    "print(\"          \" + '-' * len(user_input))\n",
    "print('        /')\n",
    "print(' /\\_/\\ /')\n",
    "print('( o.o )')\n",
    "print(' > ^ <')"
   ]
  },
  {
   "cell_type": "code",
   "execution_count": 23,
   "metadata": {},
   "outputs": [
    {
     "output_type": "stream",
     "name": "stdout",
     "text": [
      "It cost $3.5999999999999996 per day\n",
      "It cost $100.79999999999998 per month(28days average)\n",
      "\n",
      "It cost $72.0 for 20 servers per day\n",
      "It cost $2015.9999999999995 for 20 servers per month(28days average)\n",
      "\n",
      "It operates for 255.0 days.\n"
     ]
    }
   ],
   "source": [
    "cost_per_hour = float(input(\"What is the cost per hour to run the server? : \"))\n",
    "cost_per_day = cost_per_hour * 24\n",
    "cost_per_month = cost_per_day * 28\n",
    "\n",
    "print(f\"It cost ${cost_per_day} per day\")\n",
    "print(f\"It cost ${cost_per_month} per month(28days average)\\n\")\n",
    "\n",
    "number_of_servers = int(input(\"Enter the number of servers you want to run? : \"))\n",
    "print(f\"It cost ${cost_per_day * number_of_servers} for {number_of_servers} servers per day\")\n",
    "print(f\"It cost ${cost_per_month * number_of_servers} for {number_of_servers} servers per month(28days average)\\n\")\n",
    "\n",
    "saved_amount = float(input(\"Enter the amount you saved : \"))\n",
    "print(f\"It operates for {saved_amount //cost_per_day} days.\")\n"
   ]
  },
  {
   "cell_type": "code",
   "execution_count": 26,
   "metadata": {},
   "outputs": [
    {
     "output_type": "stream",
     "name": "stdout",
     "text": [
      "Cost to operate one server per day is $12.24.\nCost to operate one server per month is $367.20.\nCost to operate twenty servers per day is $244.80.\nCost to operate twenty servers per month is $7344.00.\nA server can operate on a $918.00 budget for 75 days.\n"
     ]
    }
   ],
   "source": [
    "cost_per_hour = 0.51\n",
    "\n",
    "# Compute the costs for one server.\n",
    "cost_per_day = 24 * cost_per_hour\n",
    "cost_per_month = 30 * cost_per_day\n",
    "\n",
    "# Compute the costs for twenty servers\n",
    "cost_per_day_twenty = 20 * cost_per_day\n",
    "cost_per_month_twenty = 20 * cost_per_month\n",
    "\n",
    "# Budgeting\n",
    "budget = 918\n",
    "operational_days = budget / cost_per_day\n",
    "\n",
    "# Display the results.\n",
    "print('Cost to operate one server per day is ${:.2f}.'.format(cost_per_day))\n",
    "print('Cost to operate one server per month is ${:.2f}.'.format(cost_per_month))\n",
    "print('Cost to operate twenty servers per day is ${:.2f}.'.format(cost_per_day_twenty))\n",
    "print('Cost to operate twenty servers per month is ${:.2f}.'.format(cost_per_month_twenty))\n",
    "print('A server can operate on a ${0:.2f} budget for {1:.0f} days.'.format(budget, operational_days))"
   ]
  },
  {
   "cell_type": "code",
   "execution_count": null,
   "metadata": {},
   "outputs": [],
   "source": []
  }
 ]
}